{
 "cells": [
  {
   "cell_type": "code",
   "execution_count": null,
   "id": "260c6fcc",
   "metadata": {},
   "outputs": [],
   "source": []
  },
  {
   "cell_type": "markdown",
   "id": "537abf42",
   "metadata": {},
   "source": [
    "# Week 3\n",
    "\n",
    "start at 5pm PST\n",
    "\n",
    "sensitivity = $ \\frac{true positives}{total positives} $\n",
    "\n",
    "specificity = $ \\frac{true negatives}{total negatives} $\n",
    "\n",
    "CNNs\n",
    "\n",
    "- channels but more generally dimension\n",
    "- layers\n",
    "    - convolutional\n",
    "    - pooling\n",
    "- activation functions\n",
    "    - sigmoidal\n",
    "    - ReLU\n",
    "- filters and kernels. a filter 2x2 filter with depth 3 could be referred to as 3 kernels, each of dimension 2x2\n",
    "- feature maps\n",
    "\n",
    "Definitions\n",
    "- volume in the context of a feature map is the depth that you get when you combine all of the feature maps into a stack\n",
    "\n",
    "\n",
    "$$\n",
    "ReLU(x)=\n",
    "\\begin{cases}\n",
    "0 ,&\\text{if } n\\leq 0\\\\\n",
    "n  &\\text{else}\n",
    "\\end{cases}\n",
    "$$\n",
    "\n"
   ]
  }
 ],
 "metadata": {
  "jupytext": {
   "cell_metadata_filter": "-all",
   "custom_cell_magics": "kql",
   "main_language": "python"
  },
  "kernelspec": {
   "display_name": "Python 3.10.6 64-bit",
   "language": "python",
   "name": "python3"
  },
  "language_info": {
   "name": "python",
   "version": "3.10.6"
  },
  "vscode": {
   "interpreter": {
    "hash": "916dbcbb3f70747c44a77c7bcd40155683ae19c65e1c03b4aa3499c5328201f1"
   }
  }
 },
 "nbformat": 4,
 "nbformat_minor": 5
}
